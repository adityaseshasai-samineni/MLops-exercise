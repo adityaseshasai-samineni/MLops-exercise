{
 "cells": [
  {
   "cell_type": "code",
   "execution_count": null,
   "metadata": {},
   "outputs": [],
   "source": [
    "from consume import predict_diabetes\n",
    "import pandas as pd\n",
    "\n",
    "def test_predict_diabetes():\n",
    " df=pd.read_csv(r\"initial_setup/data/diabeties.csv\")\n",
    " \n"
   ]
  }
 ],
 "metadata": {
  "language_info": {
   "name": "python"
  }
 },
 "nbformat": 4,
 "nbformat_minor": 2
}
